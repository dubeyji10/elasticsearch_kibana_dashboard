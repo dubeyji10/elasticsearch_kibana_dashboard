{
 "cells": [
  {
   "cell_type": "code",
   "execution_count": 1,
   "id": "c8e63fbb",
   "metadata": {},
   "outputs": [],
   "source": [
    "import requests\n",
    "import json\n",
    "from elasticsearch import Elasticsearch\n",
    "import pprint"
   ]
  },
  {
   "cell_type": "markdown",
   "id": "a2810935",
   "metadata": {},
   "source": [
    "## response to request at home -- localhost:9200"
   ]
  },
  {
   "cell_type": "code",
   "execution_count": 2,
   "id": "4e67c797",
   "metadata": {},
   "outputs": [
    {
     "name": "stdout",
     "output_type": "stream",
     "text": [
      "seeing response at localhost:9200\n",
      "{\n",
      "  \"name\" : \"abhishek-X542UQR\",\n",
      "  \"cluster_name\" : \"elasticsearch\",\n",
      "  \"cluster_uuid\" : \"CfYBiLZcTYqUp_-7AArVAA\",\n",
      "  \"version\" : {\n",
      "    \"number\" : \"7.17.4\",\n",
      "    \"build_flavor\" : \"default\",\n",
      "    \"build_type\" : \"deb\",\n",
      "    \"build_hash\" : \"79878662c54c886ae89206c685d9f1051a9d6411\",\n",
      "    \"build_date\" : \"2022-05-18T18:04:20.964345128Z\",\n",
      "    \"build_snapshot\" : false,\n",
      "    \"lucene_version\" : \"8.11.1\",\n",
      "    \"minimum_wire_compatibility_version\" : \"6.8.0\",\n",
      "    \"minimum_index_compatibility_version\" : \"6.0.0-beta1\"\n",
      "  },\n",
      "  \"tagline\" : \"You Know, for Search\"\n",
      "}\n",
      "\n",
      "CPU times: user 8.72 ms, sys: 7.76 ms, total: 16.5 ms\n",
      "Wall time: 113 ms\n"
     ]
    }
   ],
   "source": [
    "%%time\n",
    "home= requests.get(url = \"http://localhost:9200/\")\n",
    "# print(home.content)\n",
    "print('seeing response at localhost:9200')\n",
    "print(home.text)\n"
   ]
  },
  {
   "cell_type": "markdown",
   "id": "8581fe87",
   "metadata": {},
   "source": [
    "### All indices on the elasticsearch cluster"
   ]
  },
  {
   "cell_type": "code",
   "execution_count": 3,
   "id": "ac520af2",
   "metadata": {},
   "outputs": [
    {
     "name": "stdout",
     "output_type": "stream",
     "text": [
      "('{\\n'\n",
      " '  \"netflixdata\" : {\\n'\n",
      " '    \"aliases\" : { }\\n'\n",
      " '  },\\n'\n",
      " '  \".apm-custom-link\" : {\\n'\n",
      " '    \"aliases\" : { }\\n'\n",
      " '  },\\n'\n",
      " '  \".kibana_task_manager_7.17.4_001\" : {\\n'\n",
      " '    \"aliases\" : {\\n'\n",
      " '      \".kibana_task_manager\" : { },\\n'\n",
      " '      \".kibana_task_manager_7.17.4\" : { }\\n'\n",
      " '    }\\n'\n",
      " '  },\\n'\n",
      " '  \"walmartdata\" : {\\n'\n",
      " '    \"aliases\" : {\\n'\n",
      " '      \"my-walmart-data\" : { }\\n'\n",
      " '    }\\n'\n",
      " '  },\\n'\n",
      " '  \"mystoredata\" : {\\n'\n",
      " '    \"aliases\" : { }\\n'\n",
      " '  },\\n'\n",
      " '  \".kibana-event-log-7.17.4-000001\" : {\\n'\n",
      " '    \"aliases\" : {\\n'\n",
      " '      \".kibana-event-log-7.17.4\" : {\\n'\n",
      " '        \"is_write_index\" : true,\\n'\n",
      " '        \"is_hidden\" : true\\n'\n",
      " '      }\\n'\n",
      " '    }\\n'\n",
      " '  },\\n'\n",
      " '  \".apm-agent-configuration\" : {\\n'\n",
      " '    \"aliases\" : { }\\n'\n",
      " '  },\\n'\n",
      " '  \"walmartdatasecond\" : {\\n'\n",
      " '    \"aliases\" : { }\\n'\n",
      " '  },\\n'\n",
      " '  \"kibana_sample_data_ecommerce\" : {\\n'\n",
      " '    \"aliases\" : { }\\n'\n",
      " '  },\\n'\n",
      " '  \".async-search\" : {\\n'\n",
      " '    \"aliases\" : { }\\n'\n",
      " '  },\\n'\n",
      " '  \".tasks\" : {\\n'\n",
      " '    \"aliases\" : { }\\n'\n",
      " '  },\\n'\n",
      " '  \".kibana_7.17.4_001\" : {\\n'\n",
      " '    \"aliases\" : {\\n'\n",
      " '      \".kibana\" : { },\\n'\n",
      " '      \".kibana_7.17.4\" : { }\\n'\n",
      " '    }\\n'\n",
      " '  }\\n'\n",
      " '}\\n')\n",
      "CPU times: user 8.58 ms, sys: 0 ns, total: 8.58 ms\n",
      "Wall time: 25 ms\n"
     ]
    }
   ],
   "source": [
    "%%time\n",
    "# allIndices= requests.get(url = \"http://localhost:9200/_aliases\")\n",
    "allIndices= requests.get(url = \"http://localhost:9200/_aliases?pretty=true\")\n",
    "# print(home.content)\n",
    "pprint.pprint(allIndices.text)"
   ]
  },
  {
   "cell_type": "markdown",
   "id": "4d9a0181",
   "metadata": {},
   "source": [
    "### Elasticsearch python client"
   ]
  },
  {
   "cell_type": "code",
   "execution_count": 4,
   "id": "696b8c63",
   "metadata": {},
   "outputs": [
    {
     "name": "stdout",
     "output_type": "stream",
     "text": [
      "done\n"
     ]
    }
   ],
   "source": [
    "es = Elasticsearch('http://localhost:9200')\n",
    "print('done')"
   ]
  },
  {
   "cell_type": "code",
   "execution_count": 5,
   "id": "a81b95e5",
   "metadata": {},
   "outputs": [
    {
     "data": {
      "text/plain": [
       "<Elasticsearch(['http://localhost:9200'])>"
      ]
     },
     "execution_count": 5,
     "metadata": {},
     "output_type": "execute_result"
    }
   ],
   "source": [
    "es"
   ]
  },
  {
   "cell_type": "code",
   "execution_count": 6,
   "id": "729dfce3",
   "metadata": {},
   "outputs": [
    {
     "name": "stdout",
     "output_type": "stream",
     "text": [
      "printing all indices in elasticsearch\n"
     ]
    },
    {
     "name": "stderr",
     "output_type": "stream",
     "text": [
      "/tmp/ipykernel_4151/1380980208.py:2: ElasticsearchWarning: Elasticsearch built-in security features are not enabled. Without authentication, your cluster could be accessible to anyone. See https://www.elastic.co/guide/en/elasticsearch/reference/7.17/security-minimal-setup.html to enable security.\n",
      "  es.indices.get_alias()\n",
      "/tmp/ipykernel_4151/1380980208.py:2: ElasticsearchWarning: this request accesses system indices: [.apm-agent-configuration, .kibana_7.17.4_001, .kibana_task_manager_7.17.4_001, .tasks, .apm-custom-link, .async-search], but in a future major version, direct access to system indices will be prevented by default\n",
      "  es.indices.get_alias()\n"
     ]
    },
    {
     "data": {
      "text/plain": [
       "ObjectApiResponse({'.apm-agent-configuration': {'aliases': {}}, 'walmartdatasecond': {'aliases': {}}, 'walmartdata': {'aliases': {'my-walmart-data': {}}}, '.kibana_7.17.4_001': {'aliases': {'.kibana': {}, '.kibana_7.17.4': {}}}, '.kibana_task_manager_7.17.4_001': {'aliases': {'.kibana_task_manager': {}, '.kibana_task_manager_7.17.4': {}}}, '.kibana-event-log-7.17.4-000001': {'aliases': {'.kibana-event-log-7.17.4': {'is_write_index': True, 'is_hidden': True}}}, 'mystoredata': {'aliases': {}}, '.tasks': {'aliases': {}}, 'kibana_sample_data_ecommerce': {'aliases': {}}, 'netflixdata': {'aliases': {}}, '.apm-custom-link': {'aliases': {}}, '.async-search': {'aliases': {}}})"
      ]
     },
     "execution_count": 6,
     "metadata": {},
     "output_type": "execute_result"
    }
   ],
   "source": [
    "print('printing all indices in elasticsearch')\n",
    "es.indices.get_alias()"
   ]
  },
  {
   "cell_type": "raw",
   "id": "b5d0e8bf",
   "metadata": {},
   "source": [
    "elasticsearch        8.2.2      \n"
   ]
  },
  {
   "cell_type": "markdown",
   "id": "7e18de14",
   "metadata": {},
   "source": [
    "### Creating a new index\n",
    "### curl request ( can convert to python request )\n",
    "\n",
    "```\n",
    "\n",
    "   curl -X PUT \"localhost:9200/test?pretty\" -H 'Content-Type: application/json' -d'\n",
    "{\n",
    "  \"settings\": {\n",
    "    \"number_of_shards\": 1\n",
    "  },\n",
    "  \"mappings\": {\n",
    "    \"properties\": {\n",
    "      \"field1\": { \"type\": \"text\" }\n",
    "    }\n",
    "  }\n",
    "}\n",
    "'\n",
    "\n",
    "```\n",
    "\n",
    "### from api docs\n",
    "\n",
    "```\n",
    "create(*, index: str, aliases: Optional[Mapping[str, Mapping[str, Any]]] = None, error_trace: Optional[bool] = None, filter_path: Union[str, List[str], Tuple[str, ...], None] = None, human: Optional[bool] = None, mappings: Optional[Mapping[str, Any]] = None, master_timeout: Union[int, str, None] = None, pretty: Optional[bool] = None, settings: Optional[Mapping[str, Any]] = None, timeout: Union[int, str, None] = None, wait_for_active_shards: Union[int, t.Literal['all', 'index-setting'], str, None] = None) → elastic_transport.ObjectApiResponse[typing.Any][Any]\n",
    "\n",
    "```"
   ]
  },
  {
   "cell_type": "markdown",
   "id": "453e3149",
   "metadata": {},
   "source": [
    "### mapping for store data"
   ]
  },
  {
   "cell_type": "code",
   "execution_count": 54,
   "id": "6face129",
   "metadata": {},
   "outputs": [
    {
     "name": "stdout",
     "output_type": "stream",
     "text": [
      "{'mappings': {'properties': {'Item_Identifier': {'type': 'keyword'}, 'Item_Weight': {'type': 'double'}, 'Item_Fat_Content': {'type': 'text'}, 'Item_Visibility': {'type': 'double'}, 'Item_Type': {'type': 'text'}, 'Item_MRP': {'type': 'double'}, 'Outlet_Identifier': {'type': 'text'}, 'Outlet_Location_Type': {'type': 'text'}, 'Outlet_Type Supermarket': {'type': 'text'}, 'Item_ManufactureDate': {'type': 'date', 'format': 'yyyy-MM-dd'}}}}\n"
     ]
    }
   ],
   "source": [
    "# customMapping = {\n",
    "#     'mappings': {\n",
    "#                               'properties': {\n",
    "#                                              'Item_Identifier': {'type': 'keyword'},\n",
    "#                                              'Item_Weight': {'type': 'double'},\n",
    "#                                              'Item_Fat_Content': {'type': 'keyword'},\n",
    "#                                              'Item_Visibility': {'type': 'double'},\n",
    "#                                              'Item_Type': {'type': 'keyword'},\n",
    "#                                              'Item_MRP': {'type': 'double'},\n",
    "#                                              'Outlet_Identifier': {'type': 'keyword'},\n",
    "#                                              'Outlet_Location_Type': {'type': 'keyword'},\n",
    "#                                              'Outlet_Type Supermarket': {'type': 'keyword'},\n",
    "#                                              'Item_ManufactureDate': {\"type\":   \"date\"}\n",
    "#                                             }\n",
    "        \n",
    "#                 }\n",
    "#     }\n",
    "# customMapping\n",
    "\n",
    "\n",
    "mapping = {\n",
    "    \"mappings\": {\n",
    "        \"properties\": {\n",
    "                                             'Item_Identifier': {'type': 'keyword'},\n",
    "                                             'Item_Weight': {'type': 'double'},\n",
    "                                             'Item_Fat_Content': {'type': 'text'},\n",
    "                                             'Item_Visibility': {'type': 'double'},\n",
    "                                             'Item_Type': {'type': 'text'},\n",
    "                                             'Item_MRP': {'type': 'double'},\n",
    "                                             'Outlet_Identifier': {'type': 'text'},\n",
    "                                             'Outlet_Location_Type': {'type': 'text'},\n",
    "                                             'Outlet_Type Supermarket': {'type': 'text'},\n",
    "                                             'Item_ManufactureDate': {\"type\":   \"date\",'format': 'yyyy-MM-dd'}\n",
    "        }\n",
    "    }\n",
    "}\n",
    "print(mapping)"
   ]
  },
  {
   "cell_type": "code",
   "execution_count": 55,
   "id": "3f9f2b5b",
   "metadata": {},
   "outputs": [
    {
     "data": {
      "text/plain": [
       "'{\"mappings\": {\"properties\": {\"Item_Identifier\": {\"type\": \"keyword\"}, \"Item_Weight\": {\"type\": \"double\"}, \"Item_Fat_Content\": {\"type\": \"text\"}, \"Item_Visibility\": {\"type\": \"double\"}, \"Item_Type\": {\"type\": \"text\"}, \"Item_MRP\": {\"type\": \"double\"}, \"Outlet_Identifier\": {\"type\": \"text\"}, \"Outlet_Location_Type\": {\"type\": \"text\"}, \"Outlet_Type Supermarket\": {\"type\": \"text\"}, \"Item_ManufactureDate\": {\"type\": \"date\", \"format\": \"yyyy-MM-dd\"}}}}'"
      ]
     },
     "execution_count": 55,
     "metadata": {},
     "output_type": "execute_result"
    }
   ],
   "source": [
    "json.dumps(mapping)"
   ]
  },
  {
   "cell_type": "code",
   "execution_count": 60,
   "id": "2f0182af",
   "metadata": {},
   "outputs": [
    {
     "name": "stdout",
     "output_type": "stream",
     "text": [
      " --- test run creating index of storedata with custom mappings\n",
      "{'acknowledged': True, 'shards_acknowledged': True, 'index': 'example_index_2'}\n",
      "CPU times: user 34.3 ms, sys: 42 µs, total: 34.4 ms\n",
      "Wall time: 204 ms\n"
     ]
    },
    {
     "name": "stderr",
     "output_type": "stream",
     "text": [
      "<timed exec>:16: DeprecationWarning: The 'body' parameter is deprecated and will be removed in a future version. Instead use individual parameters.\n",
      "<timed exec>:16: ElasticsearchWarning: Elasticsearch built-in security features are not enabled. Without authentication, your cluster could be accessible to anyone. See https://www.elastic.co/guide/en/elasticsearch/reference/7.17/security-minimal-setup.html to enable security.\n"
     ]
    }
   ],
   "source": [
    "%%time\n",
    "print(' --- test run creating index of storedata with custom mappings')\n",
    "# response_create = es.indices.create(index=\"mythirdstore\",mappings=mapping)\n",
    "\n",
    "request_body = {\n",
    "    \"settings\": {\n",
    "        \"number_of_shards\": 2,\n",
    "        \"number_of_replicas\": 1\n",
    "    },\n",
    "    'mappings': {\n",
    "            'properties': {\n",
    "                'texts': {'type': 'text'},\n",
    "            }\n",
    "        \n",
    "    }\n",
    "}\n",
    "response_create = es.indices.create(index='example_index_2', body=request_body)\n",
    "\n",
    "\n",
    "print(response_create)\n"
   ]
  },
  {
   "cell_type": "markdown",
   "id": "d61335d4",
   "metadata": {},
   "source": [
    "## Listing all indices -- list should be updated"
   ]
  },
  {
   "cell_type": "code",
   "execution_count": 61,
   "id": "2901dff0",
   "metadata": {},
   "outputs": [
    {
     "name": "stdout",
     "output_type": "stream",
     "text": [
      "printing all indices in elasticsearch\n"
     ]
    },
    {
     "name": "stderr",
     "output_type": "stream",
     "text": [
      "/tmp/ipykernel_4151/1380980208.py:2: ElasticsearchWarning: Elasticsearch built-in security features are not enabled. Without authentication, your cluster could be accessible to anyone. See https://www.elastic.co/guide/en/elasticsearch/reference/7.17/security-minimal-setup.html to enable security.\n",
      "  es.indices.get_alias()\n",
      "/tmp/ipykernel_4151/1380980208.py:2: ElasticsearchWarning: this request accesses system indices: [.tasks, .apm-agent-configuration, .apm-custom-link, .kibana_7.17.4_001, .kibana_task_manager_7.17.4_001, .async-search], but in a future major version, direct access to system indices will be prevented by default\n",
      "  es.indices.get_alias()\n"
     ]
    },
    {
     "data": {
      "text/plain": [
       "ObjectApiResponse({'.tasks': {'aliases': {}}, 'example_index': {'aliases': {}}, 'mystoredata': {'aliases': {}}, '.apm-agent-configuration': {'aliases': {}}, '.apm-custom-link': {'aliases': {}}, 'netflixdata': {'aliases': {}}, 'kibana_sample_data_ecommerce': {'aliases': {}}, '.kibana_7.17.4_001': {'aliases': {'.kibana': {}, '.kibana_7.17.4': {}}}, '.kibana_task_manager_7.17.4_001': {'aliases': {'.kibana_task_manager': {}, '.kibana_task_manager_7.17.4': {}}}, 'walmartdatasecond': {'aliases': {}}, 'walmartdata': {'aliases': {'my-walmart-data': {}}}, 'example_index_2': {'aliases': {}}, '.kibana-event-log-7.17.4-000001': {'aliases': {'.kibana-event-log-7.17.4': {'is_write_index': True, 'is_hidden': True}}}, '.async-search': {'aliases': {}}})"
      ]
     },
     "execution_count": 61,
     "metadata": {},
     "output_type": "execute_result"
    }
   ],
   "source": [
    "print('printing all indices in elasticsearch')\n",
    "es.indices.get_alias()"
   ]
  },
  {
   "cell_type": "markdown",
   "id": "064a7522",
   "metadata": {},
   "source": [
    "--- added --  'example_index_2': {'aliases': {}}, "
   ]
  },
  {
   "cell_type": "code",
   "execution_count": null,
   "id": "8df0701e",
   "metadata": {},
   "outputs": [],
   "source": []
  }
 ],
 "metadata": {
  "kernelspec": {
   "display_name": "Python 3 (ipykernel)",
   "language": "python",
   "name": "python3"
  },
  "language_info": {
   "codemirror_mode": {
    "name": "ipython",
    "version": 3
   },
   "file_extension": ".py",
   "mimetype": "text/x-python",
   "name": "python",
   "nbconvert_exporter": "python",
   "pygments_lexer": "ipython3",
   "version": "3.8.10"
  }
 },
 "nbformat": 4,
 "nbformat_minor": 5
}
