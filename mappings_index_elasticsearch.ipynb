{
 "cells": [
  {
   "cell_type": "code",
   "execution_count": 1,
   "id": "b122fe0b",
   "metadata": {},
   "outputs": [],
   "source": [
    "import requests\n",
    "import json\n",
    "from elasticsearch import Elasticsearch\n",
    "import pprint"
   ]
  },
  {
   "cell_type": "code",
   "execution_count": 2,
   "id": "1700cb2a",
   "metadata": {},
   "outputs": [
    {
     "name": "stdout",
     "output_type": "stream",
     "text": [
      "seeing response at localhost:9200\n",
      "{\n",
      "  \"name\" : \"abhishek-X542UQR\",\n",
      "  \"cluster_name\" : \"elasticsearch\",\n",
      "  \"cluster_uuid\" : \"CfYBiLZcTYqUp_-7AArVAA\",\n",
      "  \"version\" : {\n",
      "    \"number\" : \"7.17.4\",\n",
      "    \"build_flavor\" : \"default\",\n",
      "    \"build_type\" : \"deb\",\n",
      "    \"build_hash\" : \"79878662c54c886ae89206c685d9f1051a9d6411\",\n",
      "    \"build_date\" : \"2022-05-18T18:04:20.964345128Z\",\n",
      "    \"build_snapshot\" : false,\n",
      "    \"lucene_version\" : \"8.11.1\",\n",
      "    \"minimum_wire_compatibility_version\" : \"6.8.0\",\n",
      "    \"minimum_index_compatibility_version\" : \"6.0.0-beta1\"\n",
      "  },\n",
      "  \"tagline\" : \"You Know, for Search\"\n",
      "}\n",
      "\n",
      "CPU times: user 4.95 ms, sys: 4.09 ms, total: 9.04 ms\n",
      "Wall time: 12.6 ms\n"
     ]
    }
   ],
   "source": [
    "%%time\n",
    "home= requests.get(url = \"http://localhost:9200/\")\n",
    "# print(home.content)\n",
    "print('seeing response at localhost:9200')\n",
    "print(home.text)"
   ]
  },
  {
   "cell_type": "code",
   "execution_count": 3,
   "id": "80b5facb",
   "metadata": {},
   "outputs": [
    {
     "name": "stdout",
     "output_type": "stream",
     "text": [
      "('{\\n'\n",
      " '  \".kibana-event-log-7.17.4-000001\" : {\\n'\n",
      " '    \"aliases\" : {\\n'\n",
      " '      \".kibana-event-log-7.17.4\" : {\\n'\n",
      " '        \"is_write_index\" : true,\\n'\n",
      " '        \"is_hidden\" : true\\n'\n",
      " '      }\\n'\n",
      " '    }\\n'\n",
      " '  },\\n'\n",
      " '  \"walmartdatasecond\" : {\\n'\n",
      " '    \"aliases\" : { }\\n'\n",
      " '  },\\n'\n",
      " '  \"mystoredata\" : {\\n'\n",
      " '    \"aliases\" : { }\\n'\n",
      " '  },\\n'\n",
      " '  \".async-search\" : {\\n'\n",
      " '    \"aliases\" : { }\\n'\n",
      " '  },\\n'\n",
      " '  \".kibana_task_manager_7.17.4_001\" : {\\n'\n",
      " '    \"aliases\" : {\\n'\n",
      " '      \".kibana_task_manager\" : { },\\n'\n",
      " '      \".kibana_task_manager_7.17.4\" : { }\\n'\n",
      " '    }\\n'\n",
      " '  },\\n'\n",
      " '  \"kibana_sample_data_ecommerce\" : {\\n'\n",
      " '    \"aliases\" : { }\\n'\n",
      " '  },\\n'\n",
      " '  \"netflixdata\" : {\\n'\n",
      " '    \"aliases\" : { }\\n'\n",
      " '  },\\n'\n",
      " '  \"walmartdata\" : {\\n'\n",
      " '    \"aliases\" : {\\n'\n",
      " '      \"my-walmart-data\" : { }\\n'\n",
      " '    }\\n'\n",
      " '  },\\n'\n",
      " '  \".kibana_7.17.4_001\" : {\\n'\n",
      " '    \"aliases\" : {\\n'\n",
      " '      \".kibana\" : { },\\n'\n",
      " '      \".kibana_7.17.4\" : { }\\n'\n",
      " '    }\\n'\n",
      " '  },\\n'\n",
      " '  \".apm-agent-configuration\" : {\\n'\n",
      " '    \"aliases\" : { }\\n'\n",
      " '  },\\n'\n",
      " '  \"example_index_2\" : {\\n'\n",
      " '    \"aliases\" : { }\\n'\n",
      " '  },\\n'\n",
      " '  \".apm-custom-link\" : {\\n'\n",
      " '    \"aliases\" : { }\\n'\n",
      " '  },\\n'\n",
      " '  \"example_index\" : {\\n'\n",
      " '    \"aliases\" : { }\\n'\n",
      " '  },\\n'\n",
      " '  \".tasks\" : {\\n'\n",
      " '    \"aliases\" : { }\\n'\n",
      " '  }\\n'\n",
      " '}\\n')\n",
      "CPU times: user 11.8 ms, sys: 0 ns, total: 11.8 ms\n",
      "Wall time: 22.9 ms\n"
     ]
    }
   ],
   "source": [
    "%%time\n",
    "# allIndices= requests.get(url = \"http://localhost:9200/_aliases\")\n",
    "allIndices= requests.get(url = \"http://localhost:9200/_aliases?pretty=true\")\n",
    "# print(home.content)\n",
    "pprint.pprint(allIndices.text)"
   ]
  },
  {
   "cell_type": "markdown",
   "id": "11311b7a",
   "metadata": {},
   "source": [
    "## Elasticsearch python client"
   ]
  },
  {
   "cell_type": "code",
   "execution_count": 4,
   "id": "1b08a60f",
   "metadata": {},
   "outputs": [
    {
     "name": "stdout",
     "output_type": "stream",
     "text": [
      "done\n"
     ]
    }
   ],
   "source": [
    "es = Elasticsearch('http://localhost:9200')\n",
    "print('done')"
   ]
  },
  {
   "cell_type": "code",
   "execution_count": 5,
   "id": "122cefff",
   "metadata": {},
   "outputs": [
    {
     "data": {
      "text/plain": [
       "<Elasticsearch(['http://localhost:9200'])>"
      ]
     },
     "execution_count": 5,
     "metadata": {},
     "output_type": "execute_result"
    }
   ],
   "source": [
    "es"
   ]
  },
  {
   "cell_type": "code",
   "execution_count": 6,
   "id": "4f720b38",
   "metadata": {},
   "outputs": [
    {
     "name": "stdout",
     "output_type": "stream",
     "text": [
      "printing all indices in elasticsearch\n",
      "{'.async-search': {'aliases': {}}, '.tasks': {'aliases': {}}, '.kibana_7.17.4_001': {'aliases': {'.kibana': {}, '.kibana_7.17.4': {}}}, '.apm-agent-configuration': {'aliases': {}}, '.kibana_task_manager_7.17.4_001': {'aliases': {'.kibana_task_manager': {}, '.kibana_task_manager_7.17.4': {}}}, 'walmartdata': {'aliases': {'my-walmart-data': {}}}, '.kibana-event-log-7.17.4-000001': {'aliases': {'.kibana-event-log-7.17.4': {'is_write_index': True, 'is_hidden': True}}}, 'walmartdatasecond': {'aliases': {}}, 'mystoredata': {'aliases': {}}, 'example_index_2': {'aliases': {}}, 'example_index': {'aliases': {}}, 'netflixdata': {'aliases': {}}, 'kibana_sample_data_ecommerce': {'aliases': {}}, '.apm-custom-link': {'aliases': {}}}\n"
     ]
    },
    {
     "name": "stderr",
     "output_type": "stream",
     "text": [
      "/tmp/ipykernel_8144/496845076.py:2: ElasticsearchWarning: Elasticsearch built-in security features are not enabled. Without authentication, your cluster could be accessible to anyone. See https://www.elastic.co/guide/en/elasticsearch/reference/7.17/security-minimal-setup.html to enable security.\n",
      "  resp1 = es.indices.get_alias()\n",
      "/tmp/ipykernel_8144/496845076.py:2: ElasticsearchWarning: this request accesses system indices: [.async-search, .tasks, .kibana_7.17.4_001, .apm-agent-configuration, .kibana_task_manager_7.17.4_001, .apm-custom-link], but in a future major version, direct access to system indices will be prevented by default\n",
      "  resp1 = es.indices.get_alias()\n"
     ]
    }
   ],
   "source": [
    "print('printing all indices in elasticsearch')\n",
    "resp1 = es.indices.get_alias()\n",
    "print(resp1)"
   ]
  },
  {
   "cell_type": "markdown",
   "id": "e83d7d28",
   "metadata": {},
   "source": [
    "## Creating a new index mystorefour with mappings - mappings should match fields in the test data"
   ]
  },
  {
   "cell_type": "code",
   "execution_count": 21,
   "id": "751795db",
   "metadata": {},
   "outputs": [
    {
     "data": {
      "text/plain": [
       "{'settings': {'number_of_shards': 2, 'number_of_replicas': 1},\n",
       " 'mappings': {'storeitem': {'properties': {'Item_Identifier': {'type': 'keyword'},\n",
       "    'Item_Weight': {'type': 'float'},\n",
       "    'Item_Fat_Content': {'type': 'text'},\n",
       "    'Item_Visibility': {'type': 'float'},\n",
       "    'Item_Type': {'type': 'keyword'},\n",
       "    'Item_MRP': {'type': 'float'},\n",
       "    'Outlet_Identifier': {'type': 'keyword'},\n",
       "    'Outlet_Location_Type': {'type': 'text'},\n",
       "    'Outlet_Type Supermarket': {'type': 'text'},\n",
       "    'Item_ManufactureDate': {'type': 'date', 'format': 'yyyy-MM-dd'}}}}}"
      ]
     },
     "execution_count": 21,
     "metadata": {},
     "output_type": "execute_result"
    }
   ],
   "source": [
    "request_body = {\n",
    "    \"settings\": {\n",
    "        \"number_of_shards\": 2,\n",
    "        \"number_of_replicas\": 1\n",
    "    },\n",
    "      \"mappings\": {\n",
    "        \"storeitem\": {\n",
    "          \"properties\": {\n",
    "                                             \"Item_Identifier\": {\"type\": \"keyword\"},\n",
    "                                             \"Item_Weight\": {\"type\": \"float\"},\n",
    "                                             \"Item_Fat_Content\": {\"type\": \"text\"},\n",
    "                                             \"Item_Visibility\": {\"type\": \"float\"},\n",
    "                                             \"Item_Type\": {\"type\": \"keyword\"},\n",
    "                                             \"Item_MRP\": {\"type\": \"float\"},\n",
    "                                             \"Outlet_Identifier\": {\"type\": \"keyword\"},\n",
    "                                             \"Outlet_Location_Type\": {\"type\": \"text\"},\n",
    "                                             \"Outlet_Type Supermarket\": {\"type\": \"text\"},\n",
    "                                             \"Item_ManufactureDate\": {\"type\":   \"date\",\"format\": \"yyyy-MM-dd\"}\n",
    "              }\n",
    "            }\n",
    "        }\n",
    "}\n",
    "request_body"
   ]
  },
  {
   "cell_type": "code",
   "execution_count": 22,
   "id": "3e7009ac",
   "metadata": {},
   "outputs": [
    {
     "name": "stdout",
     "output_type": "stream",
     "text": [
      " --- test run creating index of storedata with custom mappings\n"
     ]
    },
    {
     "name": "stderr",
     "output_type": "stream",
     "text": [
      "<timed exec>:4: DeprecationWarning: The 'body' parameter is deprecated and will be removed in a future version. Instead use individual parameters.\n"
     ]
    },
    {
     "ename": "BadRequestError",
     "evalue": "BadRequestError(400, 'mapper_parsing_exception', 'Root mapping definition has unsupported parameters:  [storeitem : {properties={Item_Weight={type=float}, Item_MRP={type=float}, Item_Visibility={type=float}, Item_Type={type=keyword}, Outlet_Type Supermarket={type=text}, Item_ManufactureDate={format=yyyy-MM-dd, type=date}, Outlet_Identifier={type=keyword}, Outlet_Location_Type={type=text}, Item_Identifier={type=keyword}, Item_Fat_Content={type=text}}}]')",
     "output_type": "error",
     "traceback": [
      "\u001b[0;31m---------------------------------------------------------------------------\u001b[0m",
      "\u001b[0;31mBadRequestError\u001b[0m                           Traceback (most recent call last)",
      "File \u001b[0;32m<timed exec>:4\u001b[0m, in \u001b[0;36m<module>\u001b[0;34m\u001b[0m\n",
      "File \u001b[0;32m~/Desktop/elk/elkEnv/lib/python3.8/site-packages/elasticsearch/_sync/client/utils.py:414\u001b[0m, in \u001b[0;36m_rewrite_parameters.<locals>.wrapper.<locals>.wrapped\u001b[0;34m(*args, **kwargs)\u001b[0m\n\u001b[1;32m    411\u001b[0m         \u001b[38;5;28;01mexcept\u001b[39;00m \u001b[38;5;167;01mKeyError\u001b[39;00m:\n\u001b[1;32m    412\u001b[0m             \u001b[38;5;28;01mpass\u001b[39;00m\n\u001b[0;32m--> 414\u001b[0m \u001b[38;5;28;01mreturn\u001b[39;00m \u001b[43mapi\u001b[49m\u001b[43m(\u001b[49m\u001b[38;5;241;43m*\u001b[39;49m\u001b[43margs\u001b[49m\u001b[43m,\u001b[49m\u001b[43m \u001b[49m\u001b[38;5;241;43m*\u001b[39;49m\u001b[38;5;241;43m*\u001b[39;49m\u001b[43mkwargs\u001b[49m\u001b[43m)\u001b[49m\n",
      "File \u001b[0;32m~/Desktop/elk/elkEnv/lib/python3.8/site-packages/elasticsearch/_sync/client/indices.py:509\u001b[0m, in \u001b[0;36mIndicesClient.create\u001b[0;34m(self, index, aliases, error_trace, filter_path, human, mappings, master_timeout, pretty, settings, timeout, wait_for_active_shards)\u001b[0m\n\u001b[1;32m    507\u001b[0m \u001b[38;5;28;01mif\u001b[39;00m __body \u001b[38;5;129;01mis\u001b[39;00m \u001b[38;5;129;01mnot\u001b[39;00m \u001b[38;5;28;01mNone\u001b[39;00m:\n\u001b[1;32m    508\u001b[0m     __headers[\u001b[38;5;124m\"\u001b[39m\u001b[38;5;124mcontent-type\u001b[39m\u001b[38;5;124m\"\u001b[39m] \u001b[38;5;241m=\u001b[39m \u001b[38;5;124m\"\u001b[39m\u001b[38;5;124mapplication/json\u001b[39m\u001b[38;5;124m\"\u001b[39m\n\u001b[0;32m--> 509\u001b[0m \u001b[38;5;28;01mreturn\u001b[39;00m \u001b[38;5;28;43mself\u001b[39;49m\u001b[38;5;241;43m.\u001b[39;49m\u001b[43mperform_request\u001b[49m\u001b[43m(\u001b[49m\u001b[43m  \u001b[49m\u001b[38;5;66;43;03m# type: ignore[return-value]\u001b[39;49;00m\n\u001b[1;32m    510\u001b[0m \u001b[43m    \u001b[49m\u001b[38;5;124;43m\"\u001b[39;49m\u001b[38;5;124;43mPUT\u001b[39;49m\u001b[38;5;124;43m\"\u001b[39;49m\u001b[43m,\u001b[49m\u001b[43m \u001b[49m\u001b[43m__path\u001b[49m\u001b[43m,\u001b[49m\u001b[43m \u001b[49m\u001b[43mparams\u001b[49m\u001b[38;5;241;43m=\u001b[39;49m\u001b[43m__query\u001b[49m\u001b[43m,\u001b[49m\u001b[43m \u001b[49m\u001b[43mheaders\u001b[49m\u001b[38;5;241;43m=\u001b[39;49m\u001b[43m__headers\u001b[49m\u001b[43m,\u001b[49m\u001b[43m \u001b[49m\u001b[43mbody\u001b[49m\u001b[38;5;241;43m=\u001b[39;49m\u001b[43m__body\u001b[49m\n\u001b[1;32m    511\u001b[0m \u001b[43m\u001b[49m\u001b[43m)\u001b[49m\n",
      "File \u001b[0;32m~/Desktop/elk/elkEnv/lib/python3.8/site-packages/elasticsearch/_sync/client/_base.py:390\u001b[0m, in \u001b[0;36mNamespacedClient.perform_request\u001b[0;34m(self, method, path, params, headers, body)\u001b[0m\n\u001b[1;32m    379\u001b[0m \u001b[38;5;28;01mdef\u001b[39;00m \u001b[38;5;21mperform_request\u001b[39m(\n\u001b[1;32m    380\u001b[0m     \u001b[38;5;28mself\u001b[39m,\n\u001b[1;32m    381\u001b[0m     method: \u001b[38;5;28mstr\u001b[39m,\n\u001b[0;32m   (...)\u001b[0m\n\u001b[1;32m    388\u001b[0m     \u001b[38;5;66;03m# Use the internal clients .perform_request() implementation\u001b[39;00m\n\u001b[1;32m    389\u001b[0m     \u001b[38;5;66;03m# so we take advantage of their transport options.\u001b[39;00m\n\u001b[0;32m--> 390\u001b[0m     \u001b[38;5;28;01mreturn\u001b[39;00m \u001b[38;5;28;43mself\u001b[39;49m\u001b[38;5;241;43m.\u001b[39;49m\u001b[43m_client\u001b[49m\u001b[38;5;241;43m.\u001b[39;49m\u001b[43mperform_request\u001b[49m\u001b[43m(\u001b[49m\n\u001b[1;32m    391\u001b[0m \u001b[43m        \u001b[49m\u001b[43mmethod\u001b[49m\u001b[43m,\u001b[49m\u001b[43m \u001b[49m\u001b[43mpath\u001b[49m\u001b[43m,\u001b[49m\u001b[43m \u001b[49m\u001b[43mparams\u001b[49m\u001b[38;5;241;43m=\u001b[39;49m\u001b[43mparams\u001b[49m\u001b[43m,\u001b[49m\u001b[43m \u001b[49m\u001b[43mheaders\u001b[49m\u001b[38;5;241;43m=\u001b[39;49m\u001b[43mheaders\u001b[49m\u001b[43m,\u001b[49m\u001b[43m \u001b[49m\u001b[43mbody\u001b[49m\u001b[38;5;241;43m=\u001b[39;49m\u001b[43mbody\u001b[49m\n\u001b[1;32m    392\u001b[0m \u001b[43m    \u001b[49m\u001b[43m)\u001b[49m\n",
      "File \u001b[0;32m~/Desktop/elk/elkEnv/lib/python3.8/site-packages/elasticsearch/_sync/client/_base.py:321\u001b[0m, in \u001b[0;36mBaseClient.perform_request\u001b[0;34m(self, method, path, params, headers, body)\u001b[0m\n\u001b[1;32m    318\u001b[0m         \u001b[38;5;28;01mexcept\u001b[39;00m (\u001b[38;5;167;01mValueError\u001b[39;00m, \u001b[38;5;167;01mKeyError\u001b[39;00m, \u001b[38;5;167;01mTypeError\u001b[39;00m):\n\u001b[1;32m    319\u001b[0m             \u001b[38;5;28;01mpass\u001b[39;00m\n\u001b[0;32m--> 321\u001b[0m     \u001b[38;5;28;01mraise\u001b[39;00m HTTP_EXCEPTIONS\u001b[38;5;241m.\u001b[39mget(meta\u001b[38;5;241m.\u001b[39mstatus, ApiError)(\n\u001b[1;32m    322\u001b[0m         message\u001b[38;5;241m=\u001b[39mmessage, meta\u001b[38;5;241m=\u001b[39mmeta, body\u001b[38;5;241m=\u001b[39mresp_body\n\u001b[1;32m    323\u001b[0m     )\n\u001b[1;32m    325\u001b[0m \u001b[38;5;66;03m# 'X-Elastic-Product: Elasticsearch' should be on every 2XX response.\u001b[39;00m\n\u001b[1;32m    326\u001b[0m \u001b[38;5;28;01mif\u001b[39;00m \u001b[38;5;129;01mnot\u001b[39;00m \u001b[38;5;28mself\u001b[39m\u001b[38;5;241m.\u001b[39m_verified_elasticsearch:\n\u001b[1;32m    327\u001b[0m     \u001b[38;5;66;03m# If the header is set we mark the server as verified.\u001b[39;00m\n",
      "\u001b[0;31mBadRequestError\u001b[0m: BadRequestError(400, 'mapper_parsing_exception', 'Root mapping definition has unsupported parameters:  [storeitem : {properties={Item_Weight={type=float}, Item_MRP={type=float}, Item_Visibility={type=float}, Item_Type={type=keyword}, Outlet_Type Supermarket={type=text}, Item_ManufactureDate={format=yyyy-MM-dd, type=date}, Outlet_Identifier={type=keyword}, Outlet_Location_Type={type=text}, Item_Identifier={type=keyword}, Item_Fat_Content={type=text}}}]')"
     ]
    }
   ],
   "source": [
    "%%time\n",
    "print(' --- test run creating index of storedata with custom mappings')\n",
    "# response_create = es.indices.create(index=\"mythirdstore\",mappings=mapping)\n",
    "\n",
    "response_create = es.indices.create(index='mystorefour',body=request_body)\n",
    "\n",
    "print(response_create)\n"
   ]
  },
  {
   "cell_type": "code",
   "execution_count": 24,
   "id": "33863a0b",
   "metadata": {},
   "outputs": [
    {
     "name": "stdout",
     "output_type": "stream",
     "text": [
      "{'mystoredata': {'aliases': {},\n",
      "                 'mappings': {'properties': {'Item_Fat_Content': {'fields': {'keyword': {'ignore_above': 256,\n",
      "                                                                                         'type': 'keyword'}},\n",
      "                                                                  'type': 'text'},\n",
      "                                             'Item_Identifier': {'fields': {'keyword': {'ignore_above': 256,\n",
      "                                                                                        'type': 'keyword'}},\n",
      "                                                                 'type': 'text'},\n",
      "                                             'Item_MRP': {'fields': {'keyword': {'ignore_above': 256,\n",
      "                                                                                 'type': 'keyword'}},\n",
      "                                                          'type': 'text'},\n",
      "                                             'Item_ManufactureDate': {'type': 'date'},\n",
      "                                             'Item_Outlet_Sales': {'fields': {'keyword': {'ignore_above': 256,\n",
      "                                                                                          'type': 'keyword'}},\n",
      "                                                                   'type': 'text'},\n",
      "                                             'Item_Type': {'fields': {'keyword': {'ignore_above': 256,\n",
      "                                                                                  'type': 'keyword'}},\n",
      "                                                           'type': 'text'},\n",
      "                                             'Item_Visibility': {'fields': {'keyword': {'ignore_above': 256,\n",
      "                                                                                        'type': 'keyword'}},\n",
      "                                                                 'type': 'text'},\n",
      "                                             'Item_Weight': {'fields': {'keyword': {'ignore_above': 256,\n",
      "                                                                                    'type': 'keyword'}},\n",
      "                                                             'type': 'text'},\n",
      "                                             'Outlet_Establishment_Year': {'fields': {'keyword': {'ignore_above': 256,\n",
      "                                                                                                  'type': 'keyword'}},\n",
      "                                                                           'type': 'text'},\n",
      "                                             'Outlet_Identifier': {'fields': {'keyword': {'ignore_above': 256,\n",
      "                                                                                          'type': 'keyword'}},\n",
      "                                                                   'type': 'text'},\n",
      "                                             'Outlet_Location_Type': {'fields': {'keyword': {'ignore_above': 256,\n",
      "                                                                                             'type': 'keyword'}},\n",
      "                                                                      'type': 'text'},\n",
      "                                             'Outlet_Size': {'fields': {'keyword': {'ignore_above': 256,\n",
      "                                                                                    'type': 'keyword'}},\n",
      "                                                             'type': 'text'},\n",
      "                                             'Outlet_Type': {'fields': {'keyword': {'ignore_above': 256,\n",
      "                                                                                    'type': 'keyword'}},\n",
      "                                                             'type': 'text'}}},\n",
      "                 'settings': {'index': {'creation_date': '1655552527656',\n",
      "                                        'number_of_replicas': '1',\n",
      "                                        'number_of_shards': '1',\n",
      "                                        'provided_name': 'mystoredata',\n",
      "                                        'routing': {'allocation': {'include': {'_tier_preference': 'data_content'}}},\n",
      "                                        'uuid': 'ni-24tYSS7mP8vbxbmmZ6g',\n",
      "                                        'version': {'created': '7170499'}}}}}\n",
      "CPU times: user 19.7 ms, sys: 301 µs, total: 20 ms\n",
      "Wall time: 24.6 ms\n"
     ]
    }
   ],
   "source": [
    "%%time\n",
    "home= requests.get(url = \"http://localhost:9200/mystoredata\")\n",
    "# print(home.content)\n",
    "pprint.pprint(json.loads(home.text))"
   ]
  },
  {
   "cell_type": "code",
   "execution_count": 28,
   "id": "489fdffe",
   "metadata": {},
   "outputs": [],
   "source": [
    "custMap1 = {\n",
    "    'mappings':\n",
    "        {\n",
    "            \"properties\":{\n",
    "                'Item_Type': {\n",
    "                    'fields': {\n",
    "                        'keyword': {\n",
    "                            'ignore_above': 256,'type': 'keyword'\n",
    "                            }\n",
    "                        },\n",
    "                'type': 'keyword'\n",
    "                },\n",
    "                'Outlet_Identifier': {\n",
    "                    'fields': {\n",
    "                        'keyword': {\n",
    "                            'ignore_above': 256,'type': 'keyword'\n",
    "                            }\n",
    "                        },\n",
    "                'type': 'keyword'\n",
    "                },\n",
    "                'Item_Weight': {\n",
    "                    \"type\": \"double\"\n",
    "                },\n",
    "                'Item_Visibility': {\n",
    "                    \"type\": \"double\"\n",
    "                },\n",
    "            },\n",
    "        }\n",
    "}"
   ]
  },
  {
   "cell_type": "code",
   "execution_count": 27,
   "id": "604b3b6e",
   "metadata": {},
   "outputs": [
    {
     "data": {
      "text/plain": [
       "{'settings': {'number_of_shards': 2, 'number_of_replicas': 1},\n",
       " 'mappings': {'storeitem': {'properties': {'Item_Identifier': {'type': 'keyword'},\n",
       "    'Item_Weight': {'type': 'float'},\n",
       "    'Item_Fat_Content': {'type': 'text'},\n",
       "    'Item_Visibility': {'type': 'float'},\n",
       "    'Item_Type': {'type': 'keyword'},\n",
       "    'Item_MRP': {'type': 'float'},\n",
       "    'Outlet_Identifier': {'type': 'keyword'},\n",
       "    'Outlet_Location_Type': {'type': 'text'},\n",
       "    'Outlet_Type Supermarket': {'type': 'text'},\n",
       "    'Item_ManufactureDate': {'type': 'date', 'format': 'yyyy-MM-dd'}}}}}"
      ]
     },
     "execution_count": 27,
     "metadata": {},
     "output_type": "execute_result"
    }
   ],
   "source": [
    "request_body"
   ]
  },
  {
   "cell_type": "code",
   "execution_count": 29,
   "id": "8a778304",
   "metadata": {},
   "outputs": [
    {
     "data": {
      "text/plain": [
       "{'mappings': {'properties': {'Item_Type': {'fields': {'keyword': {'ignore_above': 256,\n",
       "      'type': 'keyword'}},\n",
       "    'type': 'keyword'},\n",
       "   'Outlet_Identifier': {'fields': {'keyword': {'ignore_above': 256,\n",
       "      'type': 'keyword'}},\n",
       "    'type': 'keyword'},\n",
       "   'Item_Weight': {'type': 'double'},\n",
       "   'Item_Visibility': {'type': 'double'}}}}"
      ]
     },
     "execution_count": 29,
     "metadata": {},
     "output_type": "execute_result"
    }
   ],
   "source": [
    "custMap1"
   ]
  },
  {
   "cell_type": "code",
   "execution_count": 30,
   "id": "8533b3b6",
   "metadata": {},
   "outputs": [
    {
     "name": "stdout",
     "output_type": "stream",
     "text": [
      " --- test run creating index -- mystorefive -- of storedata with custom mappings\n"
     ]
    },
    {
     "ename": "BadRequestError",
     "evalue": "BadRequestError(400, 'mapper_parsing_exception', 'Root mapping definition has unsupported parameters:  [mappings : {properties={Item_Weight={type=double}, Item_Type={fields={keyword={ignore_above=256, type=keyword}}, type=keyword}, Item_Visibility={type=double}, Outlet_Identifier={fields={keyword={ignore_above=256, type=keyword}}, type=keyword}}}]')",
     "output_type": "error",
     "traceback": [
      "\u001b[0;31m---------------------------------------------------------------------------\u001b[0m",
      "\u001b[0;31mBadRequestError\u001b[0m                           Traceback (most recent call last)",
      "File \u001b[0;32m<timed exec>:4\u001b[0m, in \u001b[0;36m<module>\u001b[0;34m\u001b[0m\n",
      "File \u001b[0;32m~/Desktop/elk/elkEnv/lib/python3.8/site-packages/elasticsearch/_sync/client/utils.py:414\u001b[0m, in \u001b[0;36m_rewrite_parameters.<locals>.wrapper.<locals>.wrapped\u001b[0;34m(*args, **kwargs)\u001b[0m\n\u001b[1;32m    411\u001b[0m         \u001b[38;5;28;01mexcept\u001b[39;00m \u001b[38;5;167;01mKeyError\u001b[39;00m:\n\u001b[1;32m    412\u001b[0m             \u001b[38;5;28;01mpass\u001b[39;00m\n\u001b[0;32m--> 414\u001b[0m \u001b[38;5;28;01mreturn\u001b[39;00m \u001b[43mapi\u001b[49m\u001b[43m(\u001b[49m\u001b[38;5;241;43m*\u001b[39;49m\u001b[43margs\u001b[49m\u001b[43m,\u001b[49m\u001b[43m \u001b[49m\u001b[38;5;241;43m*\u001b[39;49m\u001b[38;5;241;43m*\u001b[39;49m\u001b[43mkwargs\u001b[49m\u001b[43m)\u001b[49m\n",
      "File \u001b[0;32m~/Desktop/elk/elkEnv/lib/python3.8/site-packages/elasticsearch/_sync/client/indices.py:509\u001b[0m, in \u001b[0;36mIndicesClient.create\u001b[0;34m(self, index, aliases, error_trace, filter_path, human, mappings, master_timeout, pretty, settings, timeout, wait_for_active_shards)\u001b[0m\n\u001b[1;32m    507\u001b[0m \u001b[38;5;28;01mif\u001b[39;00m __body \u001b[38;5;129;01mis\u001b[39;00m \u001b[38;5;129;01mnot\u001b[39;00m \u001b[38;5;28;01mNone\u001b[39;00m:\n\u001b[1;32m    508\u001b[0m     __headers[\u001b[38;5;124m\"\u001b[39m\u001b[38;5;124mcontent-type\u001b[39m\u001b[38;5;124m\"\u001b[39m] \u001b[38;5;241m=\u001b[39m \u001b[38;5;124m\"\u001b[39m\u001b[38;5;124mapplication/json\u001b[39m\u001b[38;5;124m\"\u001b[39m\n\u001b[0;32m--> 509\u001b[0m \u001b[38;5;28;01mreturn\u001b[39;00m \u001b[38;5;28;43mself\u001b[39;49m\u001b[38;5;241;43m.\u001b[39;49m\u001b[43mperform_request\u001b[49m\u001b[43m(\u001b[49m\u001b[43m  \u001b[49m\u001b[38;5;66;43;03m# type: ignore[return-value]\u001b[39;49;00m\n\u001b[1;32m    510\u001b[0m \u001b[43m    \u001b[49m\u001b[38;5;124;43m\"\u001b[39;49m\u001b[38;5;124;43mPUT\u001b[39;49m\u001b[38;5;124;43m\"\u001b[39;49m\u001b[43m,\u001b[49m\u001b[43m \u001b[49m\u001b[43m__path\u001b[49m\u001b[43m,\u001b[49m\u001b[43m \u001b[49m\u001b[43mparams\u001b[49m\u001b[38;5;241;43m=\u001b[39;49m\u001b[43m__query\u001b[49m\u001b[43m,\u001b[49m\u001b[43m \u001b[49m\u001b[43mheaders\u001b[49m\u001b[38;5;241;43m=\u001b[39;49m\u001b[43m__headers\u001b[49m\u001b[43m,\u001b[49m\u001b[43m \u001b[49m\u001b[43mbody\u001b[49m\u001b[38;5;241;43m=\u001b[39;49m\u001b[43m__body\u001b[49m\n\u001b[1;32m    511\u001b[0m \u001b[43m\u001b[49m\u001b[43m)\u001b[49m\n",
      "File \u001b[0;32m~/Desktop/elk/elkEnv/lib/python3.8/site-packages/elasticsearch/_sync/client/_base.py:390\u001b[0m, in \u001b[0;36mNamespacedClient.perform_request\u001b[0;34m(self, method, path, params, headers, body)\u001b[0m\n\u001b[1;32m    379\u001b[0m \u001b[38;5;28;01mdef\u001b[39;00m \u001b[38;5;21mperform_request\u001b[39m(\n\u001b[1;32m    380\u001b[0m     \u001b[38;5;28mself\u001b[39m,\n\u001b[1;32m    381\u001b[0m     method: \u001b[38;5;28mstr\u001b[39m,\n\u001b[0;32m   (...)\u001b[0m\n\u001b[1;32m    388\u001b[0m     \u001b[38;5;66;03m# Use the internal clients .perform_request() implementation\u001b[39;00m\n\u001b[1;32m    389\u001b[0m     \u001b[38;5;66;03m# so we take advantage of their transport options.\u001b[39;00m\n\u001b[0;32m--> 390\u001b[0m     \u001b[38;5;28;01mreturn\u001b[39;00m \u001b[38;5;28;43mself\u001b[39;49m\u001b[38;5;241;43m.\u001b[39;49m\u001b[43m_client\u001b[49m\u001b[38;5;241;43m.\u001b[39;49m\u001b[43mperform_request\u001b[49m\u001b[43m(\u001b[49m\n\u001b[1;32m    391\u001b[0m \u001b[43m        \u001b[49m\u001b[43mmethod\u001b[49m\u001b[43m,\u001b[49m\u001b[43m \u001b[49m\u001b[43mpath\u001b[49m\u001b[43m,\u001b[49m\u001b[43m \u001b[49m\u001b[43mparams\u001b[49m\u001b[38;5;241;43m=\u001b[39;49m\u001b[43mparams\u001b[49m\u001b[43m,\u001b[49m\u001b[43m \u001b[49m\u001b[43mheaders\u001b[49m\u001b[38;5;241;43m=\u001b[39;49m\u001b[43mheaders\u001b[49m\u001b[43m,\u001b[49m\u001b[43m \u001b[49m\u001b[43mbody\u001b[49m\u001b[38;5;241;43m=\u001b[39;49m\u001b[43mbody\u001b[49m\n\u001b[1;32m    392\u001b[0m \u001b[43m    \u001b[49m\u001b[43m)\u001b[49m\n",
      "File \u001b[0;32m~/Desktop/elk/elkEnv/lib/python3.8/site-packages/elasticsearch/_sync/client/_base.py:321\u001b[0m, in \u001b[0;36mBaseClient.perform_request\u001b[0;34m(self, method, path, params, headers, body)\u001b[0m\n\u001b[1;32m    318\u001b[0m         \u001b[38;5;28;01mexcept\u001b[39;00m (\u001b[38;5;167;01mValueError\u001b[39;00m, \u001b[38;5;167;01mKeyError\u001b[39;00m, \u001b[38;5;167;01mTypeError\u001b[39;00m):\n\u001b[1;32m    319\u001b[0m             \u001b[38;5;28;01mpass\u001b[39;00m\n\u001b[0;32m--> 321\u001b[0m     \u001b[38;5;28;01mraise\u001b[39;00m HTTP_EXCEPTIONS\u001b[38;5;241m.\u001b[39mget(meta\u001b[38;5;241m.\u001b[39mstatus, ApiError)(\n\u001b[1;32m    322\u001b[0m         message\u001b[38;5;241m=\u001b[39mmessage, meta\u001b[38;5;241m=\u001b[39mmeta, body\u001b[38;5;241m=\u001b[39mresp_body\n\u001b[1;32m    323\u001b[0m     )\n\u001b[1;32m    325\u001b[0m \u001b[38;5;66;03m# 'X-Elastic-Product: Elasticsearch' should be on every 2XX response.\u001b[39;00m\n\u001b[1;32m    326\u001b[0m \u001b[38;5;28;01mif\u001b[39;00m \u001b[38;5;129;01mnot\u001b[39;00m \u001b[38;5;28mself\u001b[39m\u001b[38;5;241m.\u001b[39m_verified_elasticsearch:\n\u001b[1;32m    327\u001b[0m     \u001b[38;5;66;03m# If the header is set we mark the server as verified.\u001b[39;00m\n",
      "\u001b[0;31mBadRequestError\u001b[0m: BadRequestError(400, 'mapper_parsing_exception', 'Root mapping definition has unsupported parameters:  [mappings : {properties={Item_Weight={type=double}, Item_Type={fields={keyword={ignore_above=256, type=keyword}}, type=keyword}, Item_Visibility={type=double}, Outlet_Identifier={fields={keyword={ignore_above=256, type=keyword}}, type=keyword}}}]')"
     ]
    }
   ],
   "source": [
    "%%time\n",
    "print(' --- test run creating index -- mystorefive -- of storedata with custom mappings')\n",
    "# response_create = es.indices.create(index=\"mythirdstore\",mappings=mapping)\n",
    "\n",
    "response_create = es.indices.create(index='mystorefive',mappings=custMap1)\n",
    "\n",
    "print(response_create)\n"
   ]
  },
  {
   "cell_type": "code",
   "execution_count": null,
   "id": "234fded9",
   "metadata": {},
   "outputs": [],
   "source": []
  }
 ],
 "metadata": {
  "kernelspec": {
   "display_name": "Python 3 (ipykernel)",
   "language": "python",
   "name": "python3"
  },
  "language_info": {
   "codemirror_mode": {
    "name": "ipython",
    "version": 3
   },
   "file_extension": ".py",
   "mimetype": "text/x-python",
   "name": "python",
   "nbconvert_exporter": "python",
   "pygments_lexer": "ipython3",
   "version": "3.8.10"
  }
 },
 "nbformat": 4,
 "nbformat_minor": 5
}
